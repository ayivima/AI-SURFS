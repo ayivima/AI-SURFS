{
 "cells": [
  {
   "cell_type": "markdown",
   "metadata": {},
   "source": [
    "# Neural networks with PyTorch\n",
    "\n",
    "Deep learning networks tend to be massive with dozens or hundreds of layers, that's where the term \"deep\" comes from. You can build one of these deep networks using only weight matrices as we did in the previous notebook, but in general it's very cumbersome and difficult to implement. PyTorch has a nice module `nn` that provides a nice way to efficiently build large neural networks."
   ]
  },
  {
   "cell_type": "code",
   "execution_count": 2,
   "metadata": {},
   "outputs": [],
   "source": [
    "# Import necessary packages\n",
    "\n",
    "%matplotlib inline\n",
    "%config InlineBackend.figure_format = 'retina'\n",
    "\n",
    "import numpy as np\n",
    "import torch\n",
    "\n",
    "import helper\n",
    "\n",
    "import matplotlib.pyplot as plt"
   ]
  },
  {
   "cell_type": "markdown",
   "metadata": {},
   "source": [
    "\n",
    "Now we're going to build a larger network that can solve a (formerly) difficult problem, identifying text in an image. Here we'll use the MNIST dataset which consists of greyscale handwritten digits. Each image is 28x28 pixels, you can see a sample below\n",
    "\n",
    "<img src='assets/mnist.png'>\n",
    "\n",
    "Our goal is to build a neural network that can take one of these images and predict the digit in the image.\n",
    "\n",
    "First up, we need to get our dataset. This is provided through the `torchvision` package. The code below will download the MNIST dataset, then create training and test datasets for us. Don't worry too much about the details here, you'll learn more about this later."
   ]
  },
  {
   "cell_type": "code",
   "execution_count": 3,
   "metadata": {},
   "outputs": [
    {
     "name": "stdout",
     "output_type": "stream",
     "text": [
      "Downloading http://yann.lecun.com/exdb/mnist/train-images-idx3-ubyte.gz\n",
      "Downloading http://yann.lecun.com/exdb/mnist/train-labels-idx1-ubyte.gz\n",
      "Downloading http://yann.lecun.com/exdb/mnist/t10k-images-idx3-ubyte.gz\n",
      "Downloading http://yann.lecun.com/exdb/mnist/t10k-labels-idx1-ubyte.gz\n",
      "Processing...\n",
      "Done!\n"
     ]
    }
   ],
   "source": [
    "### Run this cell\n",
    "\n",
    "from torchvision import datasets, transforms\n",
    "\n",
    "# Define a transform to normalize the data\n",
    "transform = transforms.Compose([transforms.ToTensor(),\n",
    "                              transforms.Normalize((0.5,), (0.5,)),\n",
    "                              ])\n",
    "\n",
    "# Download and load the training data\n",
    "trainset = datasets.MNIST('~/.pytorch/MNIST_data/', download=True, train=True, transform=transform)\n",
    "trainloader = torch.utils.data.DataLoader(trainset, batch_size=64, shuffle=True)"
   ]
  },
  {
   "cell_type": "markdown",
   "metadata": {},
   "source": [
    "We have the training data loaded into `trainloader` and we make that an iterator with `iter(trainloader)`. Later, we'll use this to loop through the dataset for training, like\n",
    "\n",
    "```python\n",
    "for image, label in trainloader:\n",
    "    ## do things with images and labels\n",
    "```\n",
    "\n",
    "You'll notice I created the `trainloader` with a batch size of 64, and `shuffle=True`. The batch size is the number of images we get in one iteration from the data loader and pass through our network, often called a *batch*. And `shuffle=True` tells it to shuffle the dataset every time we start going through the data loader again. But here I'm just grabbing the first batch so we can check out the data. We can see below that `images` is just a tensor with size `(64, 1, 28, 28)`. So, 64 images per batch, 1 color channel, and 28x28 images."
   ]
  },
  {
   "cell_type": "code",
   "execution_count": 4,
   "metadata": {},
   "outputs": [
    {
     "name": "stdout",
     "output_type": "stream",
     "text": [
      "938\n"
     ]
    }
   ],
   "source": [
    "count = 0\n",
    "for image, label in trainloader:\n",
    "    count += 1\n",
    "\n",
    "print(count)"
   ]
  },
  {
   "cell_type": "code",
   "execution_count": 5,
   "metadata": {},
   "outputs": [
    {
     "name": "stdout",
     "output_type": "stream",
     "text": [
      "<class 'torch.Tensor'>\n",
      "tensor([[[-1.0000, -1.0000, -1.0000, -1.0000, -1.0000, -1.0000, -1.0000,\n",
      "          -1.0000, -1.0000, -1.0000, -1.0000, -1.0000, -1.0000, -1.0000,\n",
      "          -1.0000, -1.0000, -1.0000, -1.0000, -1.0000, -1.0000, -1.0000,\n",
      "          -1.0000, -1.0000, -1.0000, -1.0000, -1.0000, -1.0000, -1.0000],\n",
      "         [-1.0000, -1.0000, -1.0000, -1.0000, -1.0000, -1.0000, -1.0000,\n",
      "          -1.0000, -1.0000, -1.0000, -1.0000, -1.0000, -1.0000, -1.0000,\n",
      "          -1.0000, -1.0000, -1.0000, -1.0000, -1.0000, -1.0000, -1.0000,\n",
      "          -1.0000, -1.0000, -1.0000, -1.0000, -1.0000, -1.0000, -1.0000],\n",
      "         [-1.0000, -1.0000, -1.0000, -1.0000, -1.0000, -1.0000, -1.0000,\n",
      "          -1.0000, -1.0000, -1.0000, -1.0000, -1.0000, -1.0000, -1.0000,\n",
      "          -1.0000, -1.0000, -1.0000, -1.0000, -1.0000, -1.0000, -1.0000,\n",
      "          -1.0000, -1.0000, -1.0000, -1.0000, -1.0000, -1.0000, -1.0000],\n",
      "         [-1.0000, -1.0000, -1.0000, -1.0000, -1.0000, -1.0000, -1.0000,\n",
      "          -1.0000, -1.0000, -1.0000, -1.0000, -1.0000, -1.0000, -1.0000,\n",
      "          -1.0000, -1.0000, -1.0000, -1.0000, -1.0000, -1.0000, -1.0000,\n",
      "          -1.0000, -1.0000, -1.0000, -1.0000, -1.0000, -1.0000, -1.0000],\n",
      "         [-1.0000, -1.0000, -1.0000, -1.0000, -1.0000, -1.0000, -1.0000,\n",
      "          -1.0000, -1.0000, -1.0000, -1.0000, -1.0000, -1.0000, -1.0000,\n",
      "          -1.0000, -1.0000, -1.0000, -1.0000, -1.0000, -1.0000, -1.0000,\n",
      "          -1.0000, -1.0000, -1.0000, -1.0000, -1.0000, -1.0000, -1.0000],\n",
      "         [-1.0000, -1.0000, -1.0000, -1.0000, -1.0000, -1.0000, -1.0000,\n",
      "          -1.0000, -1.0000, -1.0000, -1.0000, -1.0000, -1.0000, -1.0000,\n",
      "          -1.0000, -1.0000, -1.0000, -1.0000, -1.0000, -1.0000, -1.0000,\n",
      "          -1.0000, -1.0000, -1.0000, -1.0000, -1.0000, -1.0000, -1.0000],\n",
      "         [-1.0000, -1.0000, -1.0000, -1.0000, -1.0000, -1.0000, -1.0000,\n",
      "          -1.0000, -1.0000, -1.0000, -1.0000, -1.0000, -1.0000, -0.1451,\n",
      "           0.7647,  1.0000,  0.9922,  0.9922,  0.3255, -0.9843, -1.0000,\n",
      "          -1.0000, -1.0000, -1.0000, -1.0000, -1.0000, -1.0000, -1.0000],\n",
      "         [-1.0000, -1.0000, -1.0000, -1.0000, -1.0000, -1.0000, -1.0000,\n",
      "          -1.0000, -1.0000, -1.0000, -1.0000, -0.9216,  0.0824,  0.9451,\n",
      "           0.8588,  0.2157,  0.2078,  0.7412,  0.9843,  0.0824, -1.0000,\n",
      "          -1.0000, -1.0000, -1.0000, -1.0000, -1.0000, -1.0000, -1.0000],\n",
      "         [-1.0000, -1.0000, -1.0000, -1.0000, -1.0000, -1.0000, -1.0000,\n",
      "          -1.0000, -1.0000, -1.0000, -0.9608,  0.5922,  0.9843,  0.4039,\n",
      "          -0.9608, -1.0000, -1.0000, -0.6392,  0.9843,  0.8980, -0.7647,\n",
      "          -1.0000, -1.0000, -1.0000, -1.0000, -1.0000, -1.0000, -1.0000],\n",
      "         [-1.0000, -1.0000, -1.0000, -1.0000, -1.0000, -1.0000, -1.0000,\n",
      "          -1.0000, -1.0000, -1.0000,  0.1765,  0.9843,  0.2078, -0.9686,\n",
      "          -1.0000, -1.0000, -1.0000, -0.9529,  0.3490,  0.9843, -0.3882,\n",
      "          -1.0000, -1.0000, -1.0000, -1.0000, -1.0000, -1.0000, -1.0000],\n",
      "         [-1.0000, -1.0000, -1.0000, -1.0000, -1.0000, -1.0000, -1.0000,\n",
      "          -1.0000, -1.0000, -0.7333,  0.9216,  0.3098, -0.9608, -1.0000,\n",
      "          -1.0000, -1.0000, -1.0000, -0.9686,  0.2784,  0.9843, -0.1451,\n",
      "          -1.0000, -1.0000, -1.0000, -1.0000, -1.0000, -1.0000, -1.0000],\n",
      "         [-1.0000, -1.0000, -1.0000, -1.0000, -1.0000, -1.0000, -1.0000,\n",
      "          -1.0000, -1.0000, -0.0118,  0.9843, -0.6471, -1.0000, -1.0000,\n",
      "          -1.0000, -1.0000, -1.0000, -0.6784,  0.9843,  0.9216, -0.7412,\n",
      "          -1.0000, -1.0000, -1.0000, -1.0000, -1.0000, -1.0000, -1.0000],\n",
      "         [-1.0000, -1.0000, -1.0000, -1.0000, -1.0000, -1.0000, -1.0000,\n",
      "          -1.0000, -1.0000,  0.2471,  0.9843, -0.7490, -1.0000, -1.0000,\n",
      "          -1.0000, -0.9373,  0.5216,  0.8353,  0.9843,  0.1608, -1.0000,\n",
      "          -1.0000, -1.0000, -1.0000, -1.0000, -1.0000, -1.0000, -1.0000],\n",
      "         [-1.0000, -1.0000, -1.0000, -1.0000, -1.0000, -1.0000, -1.0000,\n",
      "          -1.0000, -1.0000, -0.4039,  0.9843,  0.1137, -0.9451, -1.0000,\n",
      "          -1.0000, -0.9294,  0.9843,  0.9843,  0.2078, -0.9608, -1.0000,\n",
      "          -1.0000, -1.0000, -1.0000, -1.0000, -1.0000, -1.0000, -1.0000],\n",
      "         [-1.0000, -1.0000, -1.0000, -1.0000, -1.0000, -1.0000, -1.0000,\n",
      "          -1.0000, -1.0000, -0.9765,  0.3098,  0.9843, -0.2627, -0.7725,\n",
      "          -0.8118,  0.6627,  0.9843,  0.8667, -0.8275, -1.0000, -1.0000,\n",
      "          -1.0000, -1.0000, -1.0000, -1.0000, -1.0000, -1.0000, -1.0000],\n",
      "         [-1.0000, -1.0000, -1.0000, -1.0000, -1.0000, -1.0000, -1.0000,\n",
      "          -1.0000, -1.0000, -1.0000, -0.8588,  0.2000,  0.9608,  0.9451,\n",
      "           0.9451,  0.9922,  0.9843,  0.1686, -1.0000, -1.0000, -1.0000,\n",
      "          -1.0000, -1.0000, -1.0000, -1.0000, -1.0000, -1.0000, -1.0000],\n",
      "         [-1.0000, -1.0000, -1.0000, -1.0000, -1.0000, -1.0000, -1.0000,\n",
      "          -1.0000, -1.0000, -1.0000, -1.0000, -1.0000, -0.6235, -0.7725,\n",
      "           0.7176,  1.0000,  0.6314, -1.0000, -1.0000, -1.0000, -1.0000,\n",
      "          -1.0000, -1.0000, -1.0000, -1.0000, -1.0000, -1.0000, -1.0000],\n",
      "         [-1.0000, -1.0000, -1.0000, -1.0000, -1.0000, -1.0000, -1.0000,\n",
      "          -1.0000, -1.0000, -1.0000, -1.0000, -1.0000, -1.0000, -0.9608,\n",
      "           0.7412,  0.9843, -0.0667, -1.0000, -1.0000, -1.0000, -1.0000,\n",
      "          -1.0000, -1.0000, -1.0000, -1.0000, -1.0000, -1.0000, -1.0000],\n",
      "         [-1.0000, -1.0000, -1.0000, -1.0000, -1.0000, -1.0000, -1.0000,\n",
      "          -1.0000, -1.0000, -1.0000, -1.0000, -1.0000, -1.0000,  0.3255,\n",
      "           0.9843,  0.5922, -1.0000, -1.0000, -1.0000, -1.0000, -1.0000,\n",
      "          -1.0000, -1.0000, -1.0000, -1.0000, -1.0000, -1.0000, -1.0000],\n",
      "         [-1.0000, -1.0000, -1.0000, -1.0000, -1.0000, -1.0000, -1.0000,\n",
      "          -1.0000, -1.0000, -1.0000, -1.0000, -1.0000, -0.5137,  0.9529,\n",
      "           0.8980, -0.8510, -1.0000, -1.0000, -1.0000, -1.0000, -1.0000,\n",
      "          -1.0000, -1.0000, -1.0000, -1.0000, -1.0000, -1.0000, -1.0000],\n",
      "         [-1.0000, -1.0000, -1.0000, -1.0000, -1.0000, -1.0000, -1.0000,\n",
      "          -1.0000, -1.0000, -1.0000, -1.0000, -0.9216,  0.7020,  0.9843,\n",
      "          -0.4824, -1.0000, -1.0000, -1.0000, -1.0000, -1.0000, -1.0000,\n",
      "          -1.0000, -1.0000, -1.0000, -1.0000, -1.0000, -1.0000, -1.0000],\n",
      "         [-1.0000, -1.0000, -1.0000, -1.0000, -1.0000, -1.0000, -1.0000,\n",
      "          -1.0000, -1.0000, -1.0000, -1.0000,  0.3176,  0.9843,  0.5608,\n",
      "          -0.9686, -1.0000, -1.0000, -1.0000, -1.0000, -1.0000, -1.0000,\n",
      "          -1.0000, -1.0000, -1.0000, -1.0000, -1.0000, -1.0000, -1.0000],\n",
      "         [-1.0000, -1.0000, -1.0000, -1.0000, -1.0000, -1.0000, -1.0000,\n",
      "          -1.0000, -1.0000, -1.0000, -0.5137,  0.9529,  0.8667, -0.8196,\n",
      "          -1.0000, -1.0000, -1.0000, -1.0000, -1.0000, -1.0000, -1.0000,\n",
      "          -1.0000, -1.0000, -1.0000, -1.0000, -1.0000, -1.0000, -1.0000],\n",
      "         [-1.0000, -1.0000, -1.0000, -1.0000, -1.0000, -1.0000, -1.0000,\n",
      "          -1.0000, -1.0000, -1.0000,  0.6078,  0.9843, -0.0667, -1.0000,\n",
      "          -1.0000, -1.0000, -1.0000, -1.0000, -1.0000, -1.0000, -1.0000,\n",
      "          -1.0000, -1.0000, -1.0000, -1.0000, -1.0000, -1.0000, -1.0000],\n",
      "         [-1.0000, -1.0000, -1.0000, -1.0000, -1.0000, -1.0000, -1.0000,\n",
      "          -1.0000, -1.0000, -0.5059,  0.9608,  0.8510, -0.8667, -1.0000,\n",
      "          -1.0000, -1.0000, -1.0000, -1.0000, -1.0000, -1.0000, -1.0000,\n",
      "          -1.0000, -1.0000, -1.0000, -1.0000, -1.0000, -1.0000, -1.0000],\n",
      "         [-1.0000, -1.0000, -1.0000, -1.0000, -1.0000, -1.0000, -1.0000,\n",
      "          -1.0000, -1.0000, -0.0353,  0.9843, -0.0824, -1.0000, -1.0000,\n",
      "          -1.0000, -1.0000, -1.0000, -1.0000, -1.0000, -1.0000, -1.0000,\n",
      "          -1.0000, -1.0000, -1.0000, -1.0000, -1.0000, -1.0000, -1.0000],\n",
      "         [-1.0000, -1.0000, -1.0000, -1.0000, -1.0000, -1.0000, -1.0000,\n",
      "          -1.0000, -1.0000, -1.0000, -1.0000, -1.0000, -1.0000, -1.0000,\n",
      "          -1.0000, -1.0000, -1.0000, -1.0000, -1.0000, -1.0000, -1.0000,\n",
      "          -1.0000, -1.0000, -1.0000, -1.0000, -1.0000, -1.0000, -1.0000],\n",
      "         [-1.0000, -1.0000, -1.0000, -1.0000, -1.0000, -1.0000, -1.0000,\n",
      "          -1.0000, -1.0000, -1.0000, -1.0000, -1.0000, -1.0000, -1.0000,\n",
      "          -1.0000, -1.0000, -1.0000, -1.0000, -1.0000, -1.0000, -1.0000,\n",
      "          -1.0000, -1.0000, -1.0000, -1.0000, -1.0000, -1.0000, -1.0000]]])\n",
      "torch.Size([64, 1, 28, 28])\n",
      "torch.Size([64])\n"
     ]
    }
   ],
   "source": [
    "dataiter = iter(trainloader)\n",
    "images, labels = dataiter.next()\n",
    "print(type(images))\n",
    "print(images[0])\n",
    "print(images.shape)\n",
    "print(labels.shape)"
   ]
  },
  {
   "cell_type": "markdown",
   "metadata": {},
   "source": [
    "This is what one of the images looks like. "
   ]
  },
  {
   "cell_type": "code",
   "execution_count": 6,
   "metadata": {},
   "outputs": [
    {
     "data": {
      "image/png": "[encoded data removed]",
      "text/plain": [
       "<matplotlib.figure.Figure at 0x7fc9abed0828>"
      ]
     },
     "metadata": {
      "image/png": {
       "height": 250,
       "width": 253
      },
      "needs_background": "light"
     },
     "output_type": "display_data"
    }
   ],
   "source": [
    "plt.imshow(images[1].numpy().squeeze(), cmap='Greys_r');"
   ]
  },
  {
   "cell_type": "markdown",
   "metadata": {},
   "source": [
    "First, let's try to build a simple network for this dataset using weight matrices and matrix multiplications. Then, we'll see how to do it using PyTorch's `nn` module which provides a much more convenient and powerful method for defining network architectures.\n",
    "\n",
    "The networks you've seen so far are called *fully-connected* or *dense* networks. Each unit in one layer is connected to each unit in the next layer. In fully-connected networks, the input to each layer must be a one-dimensional vector (which can be stacked into a 2D tensor as a batch of multiple examples). However, our images are 28x28 2D tensors, so we need to convert them into 1D vectors. Thinking about sizes, we need to convert the batch of images with shape `(64, 1, 28, 28)` to a have a shape of `(64, 784)`, 784 is 28 times 28. This is typically called *flattening*, we flattened the 2D images into 1D vectors.\n",
    "\n",
    "Previously you built a network with one output unit. Here we need 10 output units, one for each digit. We want our network to predict the digit shown in an image, so what we'll do is calculate probabilities that the image is of any one digit or class. This ends up being a discrete probability distribution over the classes (digits) that tells us the most likely class for the image. That means we need 10 output units for the 10 classes (digits). We'll see how to convert the network output into a probability distribution next.\n"
   ]
  },
  {
   "cell_type": "markdown",
   "metadata": {},
   "source": [
    "> ### **Exercise:** Flatten the batch of images `images`. Then build a multi-layer network with 784 input units, 256 hidden units, and 10 output units using random tensors for the weights and biases. For now, use a sigmoid activation for the hidden layer. Leave the output layer without an activation, we'll add one that gives us a probability distribution next."
   ]
  },
  {
   "cell_type": "code",
   "execution_count": 7,
   "metadata": {},
   "outputs": [
    {
     "name": "stdout",
     "output_type": "stream",
     "text": [
      "torch.Size([64, 784])\n",
      "torch.Size([64, 10])\n"
     ]
    },
    {
     "data": {
      "text/plain": [
       "tensor([[ 7.3634e-05,  9.6358e-01,  1.9128e-01,  1.9986e-02,  2.9970e-03,\n",
       "          1.0000e+00,  1.0000e+00,  9.3244e-01,  1.8158e-04,  9.9991e-01],\n",
       "        [ 8.9489e-01,  9.8420e-01,  3.8231e-03,  4.8574e-02,  9.4536e-01,\n",
       "          1.0000e+00,  1.0000e+00,  9.9999e-01,  1.1000e-02,  2.5139e-02],\n",
       "        [ 9.7024e-01,  3.4857e-01,  1.3752e-04,  1.4470e-03,  7.5499e-01,\n",
       "          9.9902e-01,  1.0000e+00,  3.5923e-02,  2.6846e-04,  2.5671e-02],\n",
       "        [ 4.4110e-02,  9.9556e-01,  2.9974e-01,  5.7675e-01,  9.0532e-03,\n",
       "          9.9746e-01,  1.0000e+00,  1.0000e+00,  2.2569e-08,  8.7775e-03],\n",
       "        [ 1.0907e-03,  9.8237e-01,  3.1471e-02,  6.3957e-01,  6.5230e-03,\n",
       "          9.9993e-01,  9.9999e-01,  9.9920e-01,  8.1727e-07,  2.2926e-02],\n",
       "        [ 2.4646e-02,  3.6259e-01,  9.8679e-03,  9.2326e-01,  3.6744e-02,\n",
       "          9.9999e-01,  9.9970e-01,  1.0000e+00,  7.1728e-02,  7.2107e-01],\n",
       "        [ 1.3957e-01,  9.6103e-01,  8.9569e-01,  1.6152e-02,  9.6158e-01,\n",
       "          1.0000e+00,  9.9997e-01,  1.0000e+00,  8.0401e-12,  6.8934e-03],\n",
       "        [ 3.4839e-03,  9.8180e-01,  3.9123e-02,  8.6424e-08,  9.9942e-01,\n",
       "          2.9105e-02,  1.0000e+00,  1.0000e+00,  1.9375e-04,  9.7907e-01],\n",
       "        [ 2.1207e-04,  2.5402e-04,  3.0172e-04,  5.1441e-01,  4.7520e-01,\n",
       "          1.0000e+00,  9.9999e-01,  9.6784e-01,  9.3425e-01,  4.1665e-01],\n",
       "        [ 6.0378e-01,  9.7898e-01,  8.4771e-02,  3.5755e-01,  3.3123e-04,\n",
       "          1.0000e+00,  1.0000e+00,  1.0000e+00,  5.5906e-04,  8.5661e-04],\n",
       "        [ 5.9717e-01,  1.9021e-01,  1.4803e-04,  5.0140e-01,  8.9924e-01,\n",
       "          9.9936e-01,  9.9999e-01,  9.9999e-01,  7.1653e-03,  8.0501e-05],\n",
       "        [ 1.0902e-02,  9.6088e-01,  7.5012e-02,  5.8644e-01,  1.2251e-03,\n",
       "          9.8492e-01,  1.0000e+00,  9.9999e-01,  2.4150e-06,  3.7493e-02],\n",
       "        [ 5.5896e-03,  1.7526e-02,  2.0802e-01,  3.8984e-02,  5.8664e-01,\n",
       "          9.9947e-01,  9.9988e-01,  1.0000e+00,  5.7170e-05,  6.4998e-02],\n",
       "        [ 9.5719e-01,  4.2204e-01,  5.8055e-07,  3.3660e-01,  1.8254e-02,\n",
       "          9.9981e-01,  1.0000e+00,  9.9989e-01,  2.3046e-04,  1.6707e-03],\n",
       "        [ 2.1929e-05,  2.9170e-01,  3.5016e-02,  9.7316e-04,  2.5871e-01,\n",
       "          9.9999e-01,  1.0000e+00,  1.0000e+00,  8.2652e-04,  8.3115e-01],\n",
       "        [ 9.2893e-01,  9.9993e-01,  6.4883e-03,  5.7225e-01,  5.6911e-03,\n",
       "          9.9830e-01,  1.0000e+00,  1.0000e+00,  1.7769e-04,  8.1742e-02],\n",
       "        [ 2.1503e-03,  2.9386e-01,  2.8728e-03,  4.8771e-01,  9.6739e-01,\n",
       "          1.0000e+00,  1.0000e+00,  1.0000e+00,  2.3263e-04,  6.8593e-02],\n",
       "        [ 6.1151e-03,  9.9528e-01,  1.0337e-01,  7.2767e-01,  6.2490e-04,\n",
       "          9.9996e-01,  1.0000e+00,  9.9985e-01,  3.2061e-02,  7.5904e-01],\n",
       "        [ 1.9032e-01,  3.6991e-01,  8.9562e-01,  9.9925e-01,  6.1867e-06,\n",
       "          9.7917e-01,  1.0000e+00,  9.9891e-01,  2.9932e-02,  7.6163e-05],\n",
       "        [ 3.3221e-01,  1.3078e-03,  3.5044e-03,  1.2235e-01,  9.4289e-05,\n",
       "          9.9993e-01,  1.0000e+00,  1.0000e+00,  1.5261e-08,  1.2153e-03],\n",
       "        [ 5.4412e-03,  1.9895e-03,  1.3879e-06,  3.0147e-04,  9.6227e-01,\n",
       "          9.9990e-01,  1.0000e+00,  9.9996e-01,  3.6959e-08,  2.2511e-01],\n",
       "        [ 9.6471e-01,  9.9940e-01,  1.8503e-04,  8.6870e-04,  9.9999e-01,\n",
       "          1.0000e+00,  1.0000e+00,  1.0000e+00,  1.1282e-02,  1.1819e-03],\n",
       "        [ 1.9834e-04,  9.6228e-04,  2.6659e-05,  1.6468e-02,  1.4080e-03,\n",
       "          1.0000e+00,  1.0000e+00,  1.0000e+00,  1.0533e-02,  3.4529e-04],\n",
       "        [ 4.2595e-01,  9.2313e-01,  2.2051e-04,  9.4118e-04,  9.9995e-01,\n",
       "          9.9999e-01,  1.0000e+00,  1.0000e+00,  1.1312e-04,  8.6717e-01],\n",
       "        [ 9.8368e-02,  6.9775e-01,  2.7350e-03,  2.6780e-02,  1.0117e-02,\n",
       "          6.0438e-01,  9.9991e-01,  9.9946e-01,  2.1209e-02,  1.9136e-06],\n",
       "        [ 4.5832e-01,  9.0850e-02,  6.3863e-03,  9.4770e-02,  5.5610e-02,\n",
       "          9.9997e-01,  1.0000e+00,  1.1037e-01,  1.2133e-04,  8.0291e-01],\n",
       "        [ 9.4585e-01,  9.8279e-01,  3.2741e-01,  8.4909e-01,  5.4023e-02,\n",
       "          9.9991e-01,  1.0000e+00,  9.9971e-01,  1.5608e-04,  1.3671e-01],\n",
       "        [ 1.3349e-03,  3.0467e-02,  9.7585e-03,  2.9540e-04,  6.3495e-03,\n",
       "          1.0000e+00,  1.0000e+00,  9.9999e-01,  8.3951e-06,  4.6519e-01],\n",
       "        [ 5.2964e-02,  9.6081e-01,  2.7394e-01,  2.6057e-01,  9.4635e-01,\n",
       "          1.0000e+00,  1.0000e+00,  1.0000e+00,  3.4466e-01,  3.5714e-01],\n",
       "        [ 1.5845e-02,  8.8961e-01,  2.9777e-03,  6.8672e-01,  1.9890e-03,\n",
       "          9.9947e-01,  1.0000e+00,  9.9948e-01,  1.0729e-04,  2.6325e-04],\n",
       "        [ 9.1669e-02,  9.9102e-01,  1.3035e-05,  5.2271e-02,  1.0195e-02,\n",
       "          9.9970e-01,  1.0000e+00,  1.0000e+00,  1.5603e-02,  1.5563e-01],\n",
       "        [ 1.6403e-01,  9.9890e-01,  2.6095e-02,  4.5039e-01,  3.0156e-04,\n",
       "          9.9891e-01,  1.0000e+00,  1.0000e+00,  1.3756e-05,  4.4351e-07],\n",
       "        [ 1.1440e-01,  9.8687e-01,  6.1375e-03,  4.3600e-01,  5.7436e-04,\n",
       "          9.9860e-01,  1.0000e+00,  1.0000e+00,  3.9019e-05,  3.8690e-04],\n",
       "        [ 1.3490e-02,  3.4966e-01,  3.8913e-05,  1.8244e-03,  8.9313e-01,\n",
       "          9.9646e-01,  1.0000e+00,  1.0000e+00,  8.1392e-06,  9.9652e-01],\n",
       "        [ 2.2135e-03,  5.4143e-01,  1.1031e-04,  1.0500e-01,  9.9999e-01,\n",
       "          1.0000e+00,  9.9858e-01,  9.9873e-01,  6.8866e-04,  9.9506e-01],\n",
       "        [ 4.5781e-02,  1.0787e-01,  3.7578e-05,  9.9984e-01,  4.0278e-02,\n",
       "          9.9977e-01,  1.0000e+00,  1.0000e+00,  6.7356e-05,  6.5196e-03],\n",
       "        [ 8.7067e-02,  1.1091e-01,  9.9680e-01,  1.4965e-01,  7.0043e-05,\n",
       "          9.9998e-01,  9.9998e-01,  1.0000e+00,  5.0637e-06,  2.0562e-02],\n",
       "        [ 2.2849e-03,  7.4442e-03,  2.6125e-06,  7.4764e-03,  6.9361e-01,\n",
       "          1.0000e+00,  1.0000e+00,  9.9998e-01,  2.7771e-02,  1.0980e-01],\n",
       "        [ 9.9094e-02,  9.5050e-01,  9.1389e-01,  9.9921e-01,  1.6752e-01,\n",
       "          1.0000e+00,  1.0000e+00,  1.0000e+00,  2.7305e-03,  1.6925e-01],\n",
       "        [ 1.4971e-01,  3.8658e-01,  1.0281e-03,  3.1956e-02,  1.1792e-01,\n",
       "          1.0000e+00,  9.9999e-01,  1.0000e+00,  8.9772e-05,  8.1273e-04],\n",
       "        [ 1.3020e-02,  7.2988e-01,  7.3993e-03,  5.2528e-01,  9.4495e-01,\n",
       "          9.9554e-01,  1.0000e+00,  1.0000e+00,  1.0478e-05,  1.0664e-02],\n",
       "        [ 9.9999e-01,  9.9959e-01,  9.3903e-03,  1.0000e+00,  5.6943e-03,\n",
       "          9.7236e-01,  9.9999e-01,  1.0000e+00,  1.0821e-05,  6.9075e-03],\n",
       "        [ 8.7011e-01,  9.7624e-01,  1.3633e-02,  1.0261e-02,  1.0000e+00,\n",
       "          1.0000e+00,  1.0000e+00,  9.9999e-01,  7.0545e-05,  9.9972e-01],\n",
       "        [ 5.5841e-01,  2.3643e-01,  8.2327e-01,  1.6722e-01,  1.0000e+00,\n",
       "          1.0000e+00,  1.0000e+00,  1.0000e+00,  1.5210e-04,  4.6657e-01],\n",
       "        [ 1.1329e-02,  2.2584e-03,  2.6327e-04,  5.1230e-01,  4.2930e-05,\n",
       "          9.9982e-01,  1.0000e+00,  9.9989e-01,  5.7373e-08,  1.0132e-01],\n",
       "        [ 2.4276e-06,  2.0091e-03,  1.7848e-02,  1.2171e-04,  3.0399e-02,\n",
       "          1.0000e+00,  9.9383e-01,  9.9676e-01,  1.0205e-01,  5.6419e-02],\n",
       "        [ 1.4838e-03,  9.9998e-01,  6.5544e-06,  1.6145e-01,  2.6645e-04,\n",
       "          9.9986e-01,  1.0000e+00,  1.0000e+00,  1.2150e-05,  1.6244e-03],\n",
       "        [ 8.3566e-02,  1.0781e-02,  4.7668e-08,  6.3327e-04,  4.1474e-04,\n",
       "          9.8732e-01,  1.0000e+00,  1.0000e+00,  6.6499e-02,  5.4331e-06],\n",
       "        [ 4.9810e-02,  8.4551e-01,  4.7856e-02,  1.4657e-01,  2.4506e-02,\n",
       "          9.9997e-01,  1.0000e+00,  9.7086e-01,  8.6293e-04,  7.8344e-01],\n",
       "        [ 7.4467e-06,  1.4385e-01,  3.6364e-02,  7.4145e-02,  3.6915e-01,\n",
       "          1.0000e+00,  1.0000e+00,  9.9986e-01,  8.2788e-03,  2.7489e-03],\n",
       "        [ 1.3592e-05,  9.8974e-01,  2.1054e-06,  2.8226e-03,  9.9676e-01,\n",
       "          1.0000e+00,  1.0000e+00,  1.0000e+00,  7.7382e-07,  7.4981e-01],\n",
       "        [ 8.5581e-01,  8.2378e-03,  2.7421e-05,  2.0887e-04,  7.6032e-01,\n",
       "          9.9417e-01,  1.0000e+00,  1.0000e+00,  5.6831e-05,  7.8838e-04],\n",
       "        [ 5.1057e-05,  1.0243e-01,  2.6269e-06,  1.1567e-02,  9.8773e-01,\n",
       "          1.0000e+00,  1.0000e+00,  4.8495e-01,  3.2947e-04,  9.3743e-01],\n",
       "        [ 9.8939e-01,  2.1441e-01,  1.0327e-05,  9.8938e-01,  7.1142e-01,\n",
       "          9.9942e-01,  1.0000e+00,  1.0000e+00,  7.7529e-01,  3.6589e-06],\n",
       "        [ 8.5120e-02,  2.3153e-01,  2.0758e-03,  9.8572e-01,  7.7153e-01,\n",
       "          9.9989e-01,  1.0000e+00,  8.2339e-01,  3.8677e-05,  2.4411e-01],\n",
       "        [ 1.4108e-03,  6.0170e-02,  2.2462e-04,  2.0350e-04,  9.9680e-01,\n",
       "          1.0000e+00,  9.9998e-01,  9.9945e-01,  9.8120e-02,  4.9677e-01],\n",
       "        [ 2.8745e-04,  9.9951e-01,  5.7982e-01,  9.9999e-01,  3.2894e-02,\n",
       "          9.9876e-01,  1.0000e+00,  9.9858e-01,  1.9964e-07,  2.9724e-07],\n",
       "        [ 6.2836e-02,  9.1136e-05,  8.0345e-07,  1.8720e-10,  5.3305e-01,\n",
       "          9.9856e-01,  1.0000e+00,  9.2259e-01,  1.0355e-02,  5.7039e-02],\n",
       "        [ 3.9666e-02,  5.5927e-01,  2.6851e-02,  1.9235e-03,  1.3718e-03,\n",
       "          1.0000e+00,  1.0000e+00,  1.0000e+00,  7.7038e-06,  8.4641e-01],\n",
       "        [ 9.9964e-01,  9.2149e-01,  9.7622e-01,  9.2746e-01,  9.9995e-01,\n",
       "          1.0000e+00,  1.0000e+00,  1.0000e+00,  6.3433e-04,  1.2402e-06],\n",
       "        [ 1.0385e-03,  8.8711e-01,  9.9829e-01,  8.9933e-01,  6.2564e-03,\n",
       "          1.0000e+00,  1.0000e+00,  1.0000e+00,  8.6824e-01,  7.8128e-01],\n",
       "        [ 7.6445e-05,  4.4297e-01,  1.0268e-01,  9.2603e-01,  6.7647e-02,\n",
       "          1.0000e+00,  1.0000e+00,  1.0000e+00,  8.3040e-06,  9.5557e-03],\n",
       "        [ 2.7220e-02,  9.9085e-01,  4.2485e-06,  1.0888e-01,  9.6720e-01,\n",
       "          9.8293e-01,  1.0000e+00,  1.0000e+00,  3.0689e-05,  9.9793e-01],\n",
       "        [ 4.5746e-03,  5.3979e-02,  8.3088e-02,  9.3921e-01,  1.0028e-03,\n",
       "          1.0000e+00,  1.0000e+00,  1.0000e+00,  2.2210e-04,  9.0280e-02]])"
      ]
     },
     "execution_count": 7,
     "metadata": {},
     "output_type": "execute_result"
    }
   ],
   "source": [
    "## Your solution\n",
    "from torch import exp, tensor, randn, mm, sum\n",
    "\n",
    "def activation(x):\n",
    "    return (\n",
    "        1/(1 + exp(1-x))\n",
    "    )\n",
    "\n",
    "features = images.view(images.shape[0], -1)\n",
    "print(features.shape)\n",
    "\n",
    "weights1 = randn(784, 256)\n",
    "bias1 = randn(256)\n",
    "\n",
    "weights2 = randn(256, 10)\n",
    "bias2 = randn(10)\n",
    "\n",
    "hidden_layer = activation(mm(features, weights1)+bias1)\n",
    "output = activation(mm(hidden_layer, weights2)+bias2)\n",
    "print(output.shape)\n",
    "output\n",
    "\n",
    "#out = # output of your network, should have shape (64,10)"
   ]
  },
  {
   "cell_type": "markdown",
   "metadata": {},
   "source": [
    "Now we have 10 outputs for our network. We want to pass in an image to our network and get out a probability distribution over the classes that tells us the likely class(es) the image belongs to. Something that looks like this:\n",
    "<img src='assets/image_distribution.png' width=500px>\n",
    "\n",
    "Here we see that the probability for each class is roughly the same. This is representing an untrained network, it hasn't seen any data yet so it just returns a uniform distribution with equal probabilities for each class.\n",
    "\n",
    "To calculate this probability distribution, we often use the [**softmax** function](https://en.wikipedia.org/wiki/Softmax_function). Mathematically this looks like\n",
    "\n",
    "$$\n",
    "\\Large \\sigma(x_i) = \\cfrac{e^{x_i}}{\\sum_k^K{e^{x_k}}}\n",
    "$$\n",
    "\n",
    "What this does is squish each input $x_i$ between 0 and 1 and normalizes the values to give you a proper probability distribution where the probabilites sum up to one.\n",
    "\n",
    "> **Exercise:** Implement a function `softmax` that performs the softmax calculation and returns probability distributions for each example in the batch. Note that you'll need to pay attention to the shapes when doing this. If you have a tensor `a` with shape `(64, 10)` and a tensor `b` with shape `(64,)`, doing `a/b` will give you an error because PyTorch will try to do the division across the columns (called broadcasting) but you'll get a size mismatch. The way to think about this is for each of the 64 examples, you only want to divide by one value, the sum in the denominator. So you need `b` to have a shape of `(64, 1)`. This way PyTorch will divide the 10 values in each row of `a` by the one value in each row of `b`. Pay attention to how you take the sum as well. You'll need to define the `dim` keyword in `torch.sum`. Setting `dim=0` takes the sum across the rows while `dim=1` takes the sum across the columns."
   ]
  },
  {
   "cell_type": "code",
   "execution_count": 8,
   "metadata": {},
   "outputs": [
    {
     "name": "stdout",
     "output_type": "stream",
     "text": [
      "torch.Size([64, 10])\n",
      "tensor([ 1.0000,  1.0000,  1.0000,  1.0000,  1.0000,  1.0000,  1.0000,\n",
      "         1.0000,  1.0000,  1.0000,  1.0000,  1.0000,  1.0000,  1.0000,\n",
      "         1.0000,  1.0000,  1.0000,  1.0000,  1.0000,  1.0000,  1.0000,\n",
      "         1.0000,  1.0000,  1.0000,  1.0000,  1.0000,  1.0000,  1.0000,\n",
      "         1.0000,  1.0000,  1.0000,  1.0000,  1.0000,  1.0000,  1.0000,\n",
      "         1.0000,  1.0000,  1.0000,  1.0000,  1.0000,  1.0000,  1.0000,\n",
      "         1.0000,  1.0000,  1.0000,  1.0000,  1.0000,  1.0000,  1.0000,\n",
      "         1.0000,  1.0000,  1.0000,  1.0000,  1.0000,  1.0000,  1.0000,\n",
      "         1.0000,  1.0000,  1.0000,  1.0000,  1.0000,  1.0000,  1.0000,\n",
      "         1.0000])\n"
     ]
    }
   ],
   "source": [
    "def softmax(x):\n",
    "    ## TODO: Implement the softmax function here\n",
    "    return exp(x)/sum(exp(x), dim=1).view(-1,1)\n",
    "\n",
    "# Here, out should be the output of the network in the previous excercise with shape (64,10)\n",
    "probabilities = softmax(output)\n",
    "\n",
    "# Does it have the right shape? Should be (64, 10)\n",
    "print(probabilities.shape)\n",
    "# Does it sum to 1?\n",
    "print(probabilities.sum(dim=1))"
   ]
  },
  {
   "cell_type": "markdown",
   "metadata": {},
   "source": [
    "## Building networks with PyTorch\n",
    "\n",
    "PyTorch provides a module `nn` that makes building networks much simpler. Here I'll show you how to build the same one as above with 784 inputs, 256 hidden units, 10 output units and a softmax output."
   ]
  },
  {
   "cell_type": "code",
   "execution_count": 9,
   "metadata": {},
   "outputs": [],
   "source": [
    "from torch import nn"
   ]
  },
  {
   "cell_type": "code",
   "execution_count": 10,
   "metadata": {},
   "outputs": [],
   "source": [
    "class Network(nn.Module):\n",
    "    def __init__(self):\n",
    "        super().__init__()\n",
    "        \n",
    "        # Inputs to hidden layer linear transformation\n",
    "        self.hidden = nn.Linear(784, 256)\n",
    "        # Output layer, 10 units - one for each digit\n",
    "        self.output = nn.Linear(256, 10)\n",
    "        \n",
    "        # Define sigmoid activation and softmax output \n",
    "        self.sigmoid = nn.Sigmoid()\n",
    "        self.softmax = nn.Softmax(dim=1)\n",
    "        \n",
    "    def forward(self, x):\n",
    "        # Pass the input tensor through each of our operations\n",
    "        x = self.hidden(x)\n",
    "        x = self.sigmoid(x)\n",
    "        x = self.output(x)\n",
    "        x = self.softmax(x)\n",
    "        \n",
    "        return x"
   ]
  },
  {
   "cell_type": "markdown",
   "metadata": {},
   "source": [
    "Let's go through this bit by bit.\n",
    "\n",
    "```python\n",
    "class Network(nn.Module):\n",
    "```\n",
    "\n",
    "Here we're inheriting from `nn.Module`. Combined with `super().__init__()` this creates a class that tracks the architecture and provides a lot of useful methods and attributes. It is mandatory to inherit from `nn.Module` when you're creating a class for your network. The name of the class itself can be anything.\n",
    "\n",
    "```python\n",
    "self.hidden = nn.Linear(784, 256)\n",
    "```\n",
    "\n",
    "This line creates a module for a linear transformation, $x\\mathbf{W} + b$, with 784 inputs and 256 outputs and assigns it to `self.hidden`. The module automatically creates the weight and bias tensors which we'll use in the `forward` method. You can access the weight and bias tensors once the network (`net`) is created with `net.hidden.weight` and `net.hidden.bias`.\n",
    "\n",
    "```python\n",
    "self.output = nn.Linear(256, 10)\n",
    "```\n",
    "\n",
    "Similarly, this creates another linear transformation with 256 inputs and 10 outputs.\n",
    "\n",
    "```python\n",
    "self.sigmoid = nn.Sigmoid()\n",
    "self.softmax = nn.Softmax(dim=1)\n",
    "```\n",
    "\n",
    "Here I defined operations for the sigmoid activation and softmax output. Setting `dim=1` in `nn.Softmax(dim=1)` calculates softmax across the columns.\n",
    "\n",
    "```python\n",
    "def forward(self, x):\n",
    "```\n",
    "\n",
    "PyTorch networks created with `nn.Module` must have a `forward` method defined. It takes in a tensor `x` and passes it through the operations you defined in the `__init__` method.\n",
    "\n",
    "```python\n",
    "x = self.hidden(x)\n",
    "x = self.sigmoid(x)\n",
    "x = self.output(x)\n",
    "x = self.softmax(x)\n",
    "```\n",
    "\n",
    "Here the input tensor `x` is passed through each operation a reassigned to `x`. We can see that the input tensor goes through the hidden layer, then a sigmoid function, then the output layer, and finally the softmax function. It doesn't matter what you name the variables here, as long as the inputs and outputs of the operations match the network architecture you want to build. The order in which you define things in the `__init__` method doesn't matter, but you'll need to sequence the operations correctly in the `forward` method.\n",
    "\n",
    "Now we can create a `Network` object."
   ]
  },
  {
   "cell_type": "code",
   "execution_count": 11,
   "metadata": {},
   "outputs": [
    {
     "data": {
      "text/plain": [
       "Network(\n",
       "  (hidden): Linear(in_features=784, out_features=256, bias=True)\n",
       "  (output): Linear(in_features=256, out_features=10, bias=True)\n",
       "  (sigmoid): Sigmoid()\n",
       "  (softmax): Softmax()\n",
       ")"
      ]
     },
     "execution_count": 11,
     "metadata": {},
     "output_type": "execute_result"
    }
   ],
   "source": [
    "# Create the network and look at it's text representation\n",
    "model = Network()\n",
    "model"
   ]
  },
  {
   "cell_type": "markdown",
   "metadata": {},
   "source": [
    "You can define the network somewhat more concisely and clearly using the `torch.nn.functional` module. This is the most common way you'll see networks defined as many operations are simple element-wise functions. We normally import this module as `F`, `import torch.nn.functional as F`."
   ]
  },
  {
   "cell_type": "code",
   "execution_count": 12,
   "metadata": {},
   "outputs": [],
   "source": [
    "import torch.nn.functional as F\n",
    "\n",
    "class Network(nn.Module):\n",
    "    def __init__(self):\n",
    "        super().__init__()\n",
    "        # Inputs to hidden layer linear transformation\n",
    "        self.hidden = nn.Linear(784, 256)\n",
    "        # Output layer, 10 units - one for each digit\n",
    "        self.output = nn.Linear(256, 10)\n",
    "        \n",
    "    def forward(self, x):\n",
    "        # Hidden layer with sigmoid activation\n",
    "        x = F.sigmoid(self.hidden(x))\n",
    "        # Output layer with softmax activation\n",
    "        x = F.softmax(self.output(x), dim=1)\n",
    "        \n",
    "        return x"
   ]
  },
  {
   "cell_type": "markdown",
   "metadata": {},
   "source": [
    "### Activation functions\n",
    "\n",
    "So far we've only been looking at the softmax activation, but in general any function can be used as an activation function. The only requirement is that for a network to approximate a non-linear function, the activation functions must be non-linear. Here are a few more examples of common activation functions: Tanh (hyperbolic tangent), and ReLU (rectified linear unit).\n",
    "\n",
    "<img src=\"assets/activation.png\" width=700px>\n",
    "\n",
    "In practice, the ReLU function is used almost exclusively as the activation function for hidden layers."
   ]
  },
  {
   "cell_type": "markdown",
   "metadata": {},
   "source": [
    "### Your Turn to Build a Network\n",
    "\n",
    "<img src=\"assets/mlp_mnist.png\" width=600px>\n",
    "\n",
    "> **Exercise:** Create a network with 784 input units, a hidden layer with 128 units and a ReLU activation, then a hidden layer with 64 units and a ReLU activation, and finally an output layer with a softmax activation as shown above. You can use a ReLU activation with the `nn.ReLU` module or `F.relu` function."
   ]
  },
  {
   "cell_type": "markdown",
   "metadata": {},
   "source": [
    "Foremost, it is important to refer to the pytorch source to undersstand what is happening:"
   ]
  },
  {
   "cell_type": "markdown",
   "metadata": {},
   "source": [
    "======================================================================================================\n",
    "\n",
    "class Linear(Module):\n",
    "    r\"\"\"Applies a linear transformation to the incoming data: :math:`y = xA^T + b`\n",
    "\n",
    "    Args:\n",
    "        in_features: size of each input sample\n",
    "        out_features: size of each output sample\n",
    "        bias: If set to ``False``, the layer will not learn an additive bias.\n",
    "            Default: ``True``\n",
    "\n",
    "    Shape:\n",
    "        - Input: :math:`(N, *, H_{in})` where :math:`*` means any number of\n",
    "          additional dimensions and :math:`H_{in} = \\text{in\\_features}`\n",
    "        - Output: :math:`(N, *, H_{out})` where all but the last dimension\n",
    "          are the same shape as the input and :math:`H_{out} = \\text{out\\_features}`.\n",
    "\n",
    "    Attributes:\n",
    "        weight: the learnable weights of the module of shape\n",
    "            :math:`(\\text{out\\_features}, \\text{in\\_features})`. The values are\n",
    "            initialized from :math:`\\mathcal{U}(-\\sqrt{k}, \\sqrt{k})`, where\n",
    "            :math:`k = \\frac{1}{\\text{in\\_features}}`\n",
    "        bias:   the learnable bias of the module of shape :math:`(\\text{out\\_features})`.\n",
    "                If :attr:`bias` is ``True``, the values are initialized from\n",
    "                :math:`\\mathcal{U}(-\\sqrt{k}, \\sqrt{k})` where\n",
    "                :math:`k = \\frac{1}{\\text{in\\_features}}`\n",
    "\n",
    "    Examples::\n",
    "\n",
    "        >>> m = nn.Linear(20, 30)\n",
    "        >>> input = torch.randn(128, 20)\n",
    "        >>> output = m(input)\n",
    "        >>> print(output.size())\n",
    "        torch.Size([128, 30])\n",
    "    \"\"\"\n",
    "    __constants__ = ['bias']\n",
    "\n",
    "    def __init__(self, in_features, out_features, bias=True):\n",
    "        super(Linear, self).__init__()\n",
    "        self.in_features = in_features\n",
    "        self.out_features = out_features\n",
    "        self.weight = Parameter(torch.Tensor(out_features, in_features))\n",
    "        if bias:\n",
    "            self.bias = Parameter(torch.Tensor(out_features))\n",
    "        else:\n",
    "            self.register_parameter('bias', None)\n",
    "        self.reset_parameters()\n",
    "\n",
    "    def reset_parameters(self):\n",
    "        init.kaiming_uniform_(self.weight, a=math.sqrt(5))\n",
    "        if self.bias is not None:\n",
    "            fan_in, _ = init._calculate_fan_in_and_fan_out(self.weight)\n",
    "            bound = 1 / math.sqrt(fan_in)\n",
    "            init.uniform_(self.bias, -bound, bound)\n",
    "\n",
    "    @weak_script_method\n",
    "    def forward(self, input):\n",
    "        return F.linear(input, self.weight, self.bias)\n",
    "\n",
    "================================================================================================="
   ]
  },
  {
   "cell_type": "code",
   "execution_count": 13,
   "metadata": {
    "scrolled": true
   },
   "outputs": [
    {
     "data": {
      "text/plain": [
       "NeuralNet(\n",
       "  (hidden): Linear(in_features=784, out_features=128, bias=True)\n",
       "  (hidden2): Linear(in_features=128, out_features=64, bias=True)\n",
       "  (output): Linear(in_features=64, out_features=10, bias=True)\n",
       ")"
      ]
     },
     "execution_count": 13,
     "metadata": {},
     "output_type": "execute_result"
    }
   ],
   "source": [
    "## Your solution here\n",
    "import torch.nn.functional as F\n",
    "\n",
    "class NeuralNet(nn.Module):\n",
    "    def __init__(self):\n",
    "        super().__init__()\n",
    "    \n",
    "        self.hidden = nn.Linear(784, 128)\n",
    "        self.hidden2 = nn.Linear(128, 64)\n",
    "        self.output = nn.Linear(64, 10)\n",
    "    \n",
    "    def forward(self, data):\n",
    "        hidden_output = F.relu(self.hidden(data))\n",
    "        hidden2_output = F.relu(self.hidden2(hidden_output))\n",
    "        final_output = F.softmax(self.output(hidden2_output), dim=1)\n",
    "        \n",
    "        return final_output\n",
    "    \n",
    "model2 = NeuralNet()\n",
    "model2"
   ]
  },
  {
   "cell_type": "markdown",
   "metadata": {},
   "source": [
    "### Initializing weights and biases\n",
    "\n",
    "The weights and such are automatically initialized for you, but it's possible to customize how they are initialized. The weights and biases are tensors attached to the layer you defined, you can get them with `model.fc1.weight` for instance."
   ]
  },
  {
   "cell_type": "code",
   "execution_count": 16,
   "metadata": {},
   "outputs": [
    {
     "name": "stdout",
     "output_type": "stream",
     "text": [
      "Parameter containing:\n",
      "tensor([[ 1.2362e-02,  4.4325e-03, -6.0230e-03,  ..., -1.5895e-02,\n",
      "         -2.1233e-03, -3.2954e-02],\n",
      "        [-1.7422e-02,  2.4554e-03,  2.7043e-02,  ..., -4.7360e-03,\n",
      "          1.4412e-02,  2.7622e-02],\n",
      "        [-1.6985e-02,  2.4749e-02, -3.5459e-02,  ...,  1.4749e-02,\n",
      "         -9.5697e-03, -2.3178e-02],\n",
      "        ...,\n",
      "        [ 5.9312e-04,  1.1824e-02, -1.9084e-02,  ...,  1.9591e-02,\n",
      "         -2.1158e-02, -3.3331e-02],\n",
      "        [-2.2108e-02,  2.9602e-02,  1.3547e-02,  ...,  2.9779e-02,\n",
      "         -4.8881e-03, -1.4358e-02],\n",
      "        [ 2.6573e-02,  4.1162e-03,  8.2375e-03,  ...,  1.9752e-02,\n",
      "          3.2275e-03,  3.5645e-02]])\n",
      "Parameter containing:\n",
      "tensor(1.00000e-02 *\n",
      "       [-1.7777,  0.0096,  3.0787, -0.0776,  1.1234, -0.3268, -1.9849,\n",
      "        -2.6524, -1.3653, -1.9971,  3.2511,  2.5388, -1.7397, -2.5526,\n",
      "         0.3946,  3.0397, -1.7807, -1.4008,  1.0379,  0.2415, -1.4642,\n",
      "        -1.1793, -2.8652, -2.2421,  1.2047,  1.3971,  3.0311, -3.2481,\n",
      "         3.3037,  2.5784, -1.7492,  2.6224,  0.6568, -0.3046, -2.4061,\n",
      "        -2.9243,  2.9864,  3.4016,  0.4113, -1.9972, -1.1277, -2.0573,\n",
      "        -0.5411,  1.8653, -3.1610, -0.1558, -2.5592,  2.2277, -2.5776,\n",
      "         0.2130, -1.3989, -0.5639,  3.4407,  0.8710, -1.8249, -1.0844,\n",
      "         0.9349, -1.6843, -0.9926,  3.5425,  2.6453,  0.7620,  1.6656,\n",
      "         0.7425,  1.0063, -1.2110,  2.4318, -0.7068, -2.0773, -3.2094,\n",
      "        -0.0530,  2.4078, -3.3981,  3.3705, -2.2696,  0.3742, -0.3057,\n",
      "        -0.3262,  2.2655,  1.4994,  2.2970,  2.6714, -2.3423, -1.6557,\n",
      "         0.3926,  0.3430,  3.0316, -0.0466, -0.2438,  1.9653, -1.8968,\n",
      "         1.7459,  1.9831, -3.3658,  2.3184,  3.1083,  3.4690,  1.0880,\n",
      "         3.4735,  2.2079,  3.2764, -2.0852, -1.6500,  2.9444, -1.4879,\n",
      "         1.1598, -1.3415,  0.7932, -0.0937,  3.1370, -0.1349, -3.1145,\n",
      "        -1.0586,  3.5381,  3.2801, -2.4027,  1.2617, -2.2406, -2.9952,\n",
      "        -1.9157, -1.1677,  0.6747, -0.4066, -3.2987, -1.2299, -1.9275,\n",
      "         2.8201,  2.0530])\n"
     ]
    }
   ],
   "source": [
    "print(model2.hidden.weight)\n",
    "print(model2.hidden.bias)"
   ]
  },
  {
   "cell_type": "markdown",
   "metadata": {},
   "source": [
    "For custom initialization, we want to modify these tensors in place. These are actually autograd *Variables*, so we need to get back the actual tensors with `model.fc1.weight.data`. Once we have the tensors, we can fill them with zeros (for biases) or random normal values."
   ]
  },
  {
   "cell_type": "code",
   "execution_count": 17,
   "metadata": {},
   "outputs": [
    {
     "data": {
      "text/plain": [
       "tensor([ 0.,  0.,  0.,  0.,  0.,  0.,  0.,  0.,  0.,  0.,  0.,  0.,\n",
       "         0.,  0.,  0.,  0.,  0.,  0.,  0.,  0.,  0.,  0.,  0.,  0.,\n",
       "         0.,  0.,  0.,  0.,  0.,  0.,  0.,  0.,  0.,  0.,  0.,  0.,\n",
       "         0.,  0.,  0.,  0.,  0.,  0.,  0.,  0.,  0.,  0.,  0.,  0.,\n",
       "         0.,  0.,  0.,  0.,  0.,  0.,  0.,  0.,  0.,  0.,  0.,  0.,\n",
       "         0.,  0.,  0.,  0.,  0.,  0.,  0.,  0.,  0.,  0.,  0.,  0.,\n",
       "         0.,  0.,  0.,  0.,  0.,  0.,  0.,  0.,  0.,  0.,  0.,  0.,\n",
       "         0.,  0.,  0.,  0.,  0.,  0.,  0.,  0.,  0.,  0.,  0.,  0.,\n",
       "         0.,  0.,  0.,  0.,  0.,  0.,  0.,  0.,  0.,  0.,  0.,  0.,\n",
       "         0.,  0.,  0.,  0.,  0.,  0.,  0.,  0.,  0.,  0.,  0.,  0.,\n",
       "         0.,  0.,  0.,  0.,  0.,  0.,  0.,  0.])"
      ]
     },
     "execution_count": 17,
     "metadata": {},
     "output_type": "execute_result"
    }
   ],
   "source": [
    "# Set biases to all zeros\n",
    "model2.hidden.bias.data.fill_(0)"
   ]
  },
  {
   "cell_type": "code",
   "execution_count": 18,
   "metadata": {},
   "outputs": [
    {
     "data": {
      "text/plain": [
       "tensor([[ 5.9189e-03,  1.7394e-02, -2.3845e-02,  ...,  2.0719e-02,\n",
       "         -3.9320e-03, -1.4056e-03],\n",
       "        [ 2.5076e-02, -3.1942e-03,  3.7322e-03,  ..., -3.2461e-03,\n",
       "         -4.4960e-03, -1.6120e-02],\n",
       "        [ 3.1570e-03,  5.4989e-04,  8.3327e-03,  ...,  6.3706e-03,\n",
       "          1.1719e-02, -1.1381e-02],\n",
       "        ...,\n",
       "        [ 1.2212e-02,  1.7746e-03, -9.3098e-03,  ..., -1.9021e-02,\n",
       "          1.7462e-02, -5.5935e-03],\n",
       "        [-9.3341e-03,  8.9530e-04, -1.0009e-02,  ..., -1.0451e-02,\n",
       "         -1.6689e-02,  6.4941e-03],\n",
       "        [ 7.6137e-03, -1.0897e-02, -3.8116e-03,  ..., -1.2270e-02,\n",
       "          6.5965e-03,  4.0317e-03]])"
      ]
     },
     "execution_count": 18,
     "metadata": {},
     "output_type": "execute_result"
    }
   ],
   "source": [
    "# sample from random normal with standard dev = 0.01\n",
    "model2.hidden.weight.data.normal_(std=0.01)"
   ]
  },
  {
   "cell_type": "markdown",
   "metadata": {},
   "source": [
    "### Forward pass\n",
    "\n",
    "Now that we have a network, let's see what happens when we pass in an image."
   ]
  },
  {
   "cell_type": "code",
   "execution_count": 19,
   "metadata": {},
   "outputs": [
    {
     "data": {
      "image/png": "[encoded data removed]",
      "text/plain": [
       "<matplotlib.figure.Figure at 0x7fc957610a20>"
      ]
     },
     "metadata": {
      "image/png": {
       "height": 224,
       "width": 423
      },
      "needs_background": "light"
     },
     "output_type": "display_data"
    }
   ],
   "source": [
    "# Grab some data \n",
    "dataiter = iter(trainloader)\n",
    "images, labels = dataiter.next()\n",
    "\n",
    "# Resize images into a 1D vector, new shape is (batch size, color channels, image pixels) \n",
    "images.resize_(64, 1, 784)\n",
    "# or images.resize_(images.shape[0], 1, 784) to automatically get batch size\n",
    "\n",
    "# Forward pass through the network\n",
    "img_idx = 0\n",
    "ps = model2.forward(images[img_idx,:])\n",
    "\n",
    "img = images[img_idx]\n",
    "helper.view_classify(img.view(1, 28, 28), ps)"
   ]
  },
  {
   "cell_type": "markdown",
   "metadata": {},
   "source": [
    "As you can see above, our network has basically no idea what this digit is. It's because we haven't trained it yet, all the weights are random!\n",
    "\n",
    "### Using `nn.Sequential`\n",
    "\n",
    "PyTorch provides a convenient way to build networks like this where a tensor is passed sequentially through operations, `nn.Sequential` ([documentation](https://pytorch.org/docs/master/nn.html#torch.nn.Sequential)). Using this to build the equivalent network:"
   ]
  },
  {
   "cell_type": "code",
   "execution_count": 20,
   "metadata": {},
   "outputs": [
    {
     "name": "stdout",
     "output_type": "stream",
     "text": [
      "Sequential(\n",
      "  (0): Linear(in_features=784, out_features=128, bias=True)\n",
      "  (1): ReLU()\n",
      "  (2): Linear(in_features=128, out_features=64, bias=True)\n",
      "  (3): ReLU()\n",
      "  (4): Linear(in_features=64, out_features=10, bias=True)\n",
      "  (5): Softmax()\n",
      ")\n"
     ]
    },
    {
     "data": {
      "image/png": "[encoded data removed]",
      "text/plain": [
       "<matplotlib.figure.Figure at 0x7fc94ee3e7b8>"
      ]
     },
     "metadata": {
      "image/png": {
       "height": 224,
       "width": 423
      },
      "needs_background": "light"
     },
     "output_type": "display_data"
    }
   ],
   "source": [
    "# Hyperparameters for our network\n",
    "input_size = 784\n",
    "hidden_sizes = [128, 64]\n",
    "output_size = 10\n",
    "\n",
    "# Build a feed-forward network\n",
    "model3 = nn.Sequential(nn.Linear(input_size, hidden_sizes[0]),\n",
    "                      nn.ReLU(),\n",
    "                      nn.Linear(hidden_sizes[0], hidden_sizes[1]),\n",
    "                      nn.ReLU(),\n",
    "                      nn.Linear(hidden_sizes[1], output_size),\n",
    "                      nn.Softmax(dim=1))\n",
    "print(model3)\n",
    "\n",
    "# Forward pass through the network and display output\n",
    "images, labels = next(iter(trainloader))\n",
    "images.resize_(images.shape[0], 1, 784)\n",
    "ps = model3.forward(images[0,:])\n",
    "helper.view_classify(images[0].view(1, 28, 28), ps)"
   ]
  },
  {
   "cell_type": "markdown",
   "metadata": {},
   "source": [
    "Here our model is the same as before: 784 input units, a hidden layer with 128 units, ReLU activation, 64 unit hidden layer, another ReLU, then the output layer with 10 units, and the softmax output.\n",
    "\n",
    "The operations are availble by passing in the appropriate index. For example, if you want to get first Linear operation and look at the weights, you'd use `model[0]`."
   ]
  },
  {
   "cell_type": "code",
   "execution_count": 21,
   "metadata": {},
   "outputs": [
    {
     "name": "stdout",
     "output_type": "stream",
     "text": [
      "Linear(in_features=784, out_features=128, bias=True)\n"
     ]
    },
    {
     "data": {
      "text/plain": [
       "Parameter containing:\n",
       "tensor([[ 5.1950e-03, -1.7496e-02,  2.3937e-02,  ..., -2.9941e-02,\n",
       "         -1.4746e-02, -2.9029e-02],\n",
       "        [-2.0075e-02, -3.3671e-02, -2.0405e-02,  ..., -2.1934e-02,\n",
       "          3.2221e-02,  5.7105e-03],\n",
       "        [-1.9666e-02, -3.4008e-02,  3.3188e-02,  ...,  3.3721e-02,\n",
       "         -7.6558e-03,  1.3335e-02],\n",
       "        ...,\n",
       "        [ 3.3356e-02,  2.8307e-03,  1.8026e-02,  ...,  1.9338e-02,\n",
       "         -2.1280e-02,  8.7864e-03],\n",
       "        [ 2.9373e-02, -5.9611e-03, -2.0693e-03,  ..., -1.7838e-02,\n",
       "          9.3225e-03,  1.3146e-02],\n",
       "        [-1.9305e-02, -1.7215e-02, -1.5656e-02,  ..., -4.1036e-03,\n",
       "          2.0299e-02, -4.2882e-04]])"
      ]
     },
     "execution_count": 21,
     "metadata": {},
     "output_type": "execute_result"
    }
   ],
   "source": [
    "print(model3[0])\n",
    "model3[0].weight"
   ]
  },
  {
   "cell_type": "markdown",
   "metadata": {},
   "source": [
    "You can also pass in an `OrderedDict` to name the individual layers and operations, instead of using incremental integers. Note that dictionary keys must be unique, so _each operation must have a different name_."
   ]
  },
  {
   "cell_type": "code",
   "execution_count": 22,
   "metadata": {},
   "outputs": [
    {
     "data": {
      "text/plain": [
       "Sequential(\n",
       "  (fc1): Linear(in_features=784, out_features=128, bias=True)\n",
       "  (relu1): ReLU()\n",
       "  (fc2): Linear(in_features=128, out_features=64, bias=True)\n",
       "  (relu2): ReLU()\n",
       "  (output): Linear(in_features=64, out_features=10, bias=True)\n",
       "  (softmax): Softmax()\n",
       ")"
      ]
     },
     "execution_count": 22,
     "metadata": {},
     "output_type": "execute_result"
    }
   ],
   "source": [
    "from collections import OrderedDict\n",
    "model4 = nn.Sequential(OrderedDict([\n",
    "                      ('fc1', nn.Linear(input_size, hidden_sizes[0])),\n",
    "                      ('relu1', nn.ReLU()),\n",
    "                      ('fc2', nn.Linear(hidden_sizes[0], hidden_sizes[1])),\n",
    "                      ('relu2', nn.ReLU()),\n",
    "                      ('output', nn.Linear(hidden_sizes[1], output_size)),\n",
    "                      ('softmax', nn.Softmax(dim=1))]))\n",
    "model4"
   ]
  },
  {
   "cell_type": "markdown",
   "metadata": {},
   "source": [
    "Now you can access layers either by integer or the name"
   ]
  },
  {
   "cell_type": "code",
   "execution_count": 23,
   "metadata": {},
   "outputs": [
    {
     "name": "stdout",
     "output_type": "stream",
     "text": [
      "Linear(in_features=784, out_features=128, bias=True)\n",
      "Linear(in_features=784, out_features=128, bias=True)\n"
     ]
    }
   ],
   "source": [
    "print(model4[0])\n",
    "print(model4.fc1)"
   ]
  },
  {
   "cell_type": "markdown",
   "metadata": {},
   "source": [
    "In the next notebook, we'll see how we can train a neural network to accuractly predict the numbers appearing in the MNIST images."
   ]
  }
 ],
 "metadata": {
  "kernelspec": {
   "display_name": "Python 3",
   "language": "python",
   "name": "python3"
  },
  "language_info": {
   "codemirror_mode": {
    "name": "ipython",
    "version": 3
   },
   "file_extension": ".py",
   "mimetype": "text/x-python",
   "name": "python",
   "nbconvert_exporter": "python",
   "pygments_lexer": "ipython3",
   "version": "3.6.3"
  }
 },
 "nbformat": 4,
 "nbformat_minor": 2
}
